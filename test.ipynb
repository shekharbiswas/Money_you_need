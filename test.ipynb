{
 "cells": [
  {
   "cell_type": "code",
   "execution_count": 2,
   "metadata": {},
   "outputs": [],
   "source": [
    "import pandas as pd\n",
    "import numpy as np"
   ]
  },
  {
   "cell_type": "code",
   "execution_count": 17,
   "metadata": {},
   "outputs": [],
   "source": [
    "def calculate_int(base = 6000000, int = 12, draw = 50000 ):\n",
    "\n",
    "    '''\n",
    "    Inputs : base ( savings )\n",
    "             interest rate \n",
    "             draw ( monthly withdrawals)\n",
    "    ''' \n",
    "\n",
    "    base_list = []\n",
    "    #base = 6000000\n",
    "    #int = 12\n",
    "    #draw = 50000\n",
    "\n",
    "\n",
    "    for i in range(360):\n",
    "        base = base - 50000\n",
    "        base = base + ((base*int)/100)/12\n",
    "\n",
    "        if i %12 == 0:\n",
    "            base_list.append(round(base))\n",
    "    \n",
    "    return round(base),base_list\n",
    "\n",
    "    \n",
    "\n",
    "\n",
    "\n"
   ]
  },
  {
   "cell_type": "code",
   "execution_count": 18,
   "metadata": {},
   "outputs": [
    {
     "data": {
      "text/plain": [
       "39202159"
      ]
     },
     "execution_count": 18,
     "metadata": {},
     "output_type": "execute_result"
    }
   ],
   "source": [
    "calculate_int()"
   ]
  },
  {
   "cell_type": "code",
   "execution_count": null,
   "metadata": {},
   "outputs": [],
   "source": []
  }
 ],
 "metadata": {
  "kernelspec": {
   "display_name": "base",
   "language": "python",
   "name": "python3"
  },
  "language_info": {
   "codemirror_mode": {
    "name": "ipython",
    "version": 3
   },
   "file_extension": ".py",
   "mimetype": "text/x-python",
   "name": "python",
   "nbconvert_exporter": "python",
   "pygments_lexer": "ipython3",
   "version": "3.11.5"
  }
 },
 "nbformat": 4,
 "nbformat_minor": 2
}
